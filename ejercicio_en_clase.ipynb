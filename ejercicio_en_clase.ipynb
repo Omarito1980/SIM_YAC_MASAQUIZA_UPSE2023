{
  "nbformat": 4,
  "nbformat_minor": 0,
  "metadata": {
    "colab": {
      "provenance": [],
      "authorship_tag": "ABX9TyPOhSjeK+e0dri/7L4SHvnI",
      "include_colab_link": true
    },
    "kernelspec": {
      "name": "python3",
      "display_name": "Python 3"
    },
    "language_info": {
      "name": "python"
    }
  },
  "cells": [
    {
      "cell_type": "markdown",
      "metadata": {
        "id": "view-in-github",
        "colab_type": "text"
      },
      "source": [
        "<a href=\"https://colab.research.google.com/github/Omarito1980/SIM_YAC_MASAQUIZA_UPSE2023/blob/main/ejercicio_en_clase.ipynb\" target=\"_parent\"><img src=\"https://colab.research.google.com/assets/colab-badge.svg\" alt=\"Open In Colab\"/></a>"
      ]
    },
    {
      "cell_type": "code",
      "source": [
        "#simulador ecuacion de la difusividad\n",
        "\n"
      ],
      "metadata": {
        "id": "6N7Z1PJYGskQ"
      },
      "execution_count": 5,
      "outputs": []
    },
    {
      "cell_type": "code",
      "source": [
        "P=[0, 4000, 4000, 4000, 0]\n",
        "Nodos=len(P)\n",
        "Nodos2=[0,1,2,3,4]\n",
        "Tiempo=100\n",
        "DT=10\n",
        "dx=200\n",
        "t=DT\n",
        "Pin=P\n",
        "Pin2=Pin #resultado\n",
        "Pdt=[0,0,0,0,0]\n",
        "\n",
        "import numpy as np\n"
      ],
      "metadata": {
        "id": "rEuM2OS8HIX8"
      },
      "execution_count": 31,
      "outputs": []
    },
    {
      "cell_type": "code",
      "source": [
        "def Presdt(P1,P2,P3,deltat,deltax):\n",
        "    return (((P1-2*P2+P3)/(deltax*deltax))*deltat)+P2"
      ],
      "metadata": {
        "id": "ZHmlucCMHbq_"
      },
      "execution_count": 32,
      "outputs": []
    },
    {
      "cell_type": "code",
      "source": [
        "while t<Tiempo:\n",
        "    for i in (Nodos2):\n",
        "        if i==0:\n",
        "            Pdt[i]=P[0]\n",
        "        elif i==len(Nodos2)-1:\n",
        "            Pdt[i]=P[len(Nodos2)-1]\n",
        "        else:\n",
        "            Pdt[i]=Presdt(Pin[i-1],Pin[1],Pin[i+1],DT,dx)\n",
        "    t=t+DT\n",
        "    Pdt=Pin\n",
        "    Pin2=np.append(Pin2,Pdt)\n",
        "\n",
        "print(Pin2)"
      ],
      "metadata": {
        "colab": {
          "base_uri": "https://localhost:8080/"
        },
        "id": "GLdlLc-QHjv0",
        "outputId": "054b8284-b908-47de-dbe2-0710b2fd6c99"
      },
      "execution_count": 33,
      "outputs": [
        {
          "output_type": "stream",
          "name": "stdout",
          "text": [
            "[   0.         4000.         4000.         4000.            0.\n",
            "    0.         4000.         4000.         4000.            0.\n",
            "    0.         3999.         3999.00025    3998.00025006    0.\n",
            "    0.         3998.00025006 3998.00025006 3997.00075       0.\n",
            "    0.         3997.00075    3997.00075    3996.00149981    0.\n",
            "    0.         3996.00149981 3996.00149981 3995.00249944    0.\n",
            "    0.         3995.00249944 3995.00249944 3994.00374881    0.\n",
            "    0.         3994.00374881 3994.00374881 3993.00524788    0.\n",
            "    0.         3993.00524788 3993.00524788 3992.00699656    0.\n",
            "    0.         3992.00699656 3992.00699656 3991.00899481    0.        ]\n"
          ]
        }
      ]
    },
    {
      "cell_type": "code",
      "source": [],
      "metadata": {
        "id": "fm-JWOC9HqU9"
      },
      "execution_count": null,
      "outputs": []
    },
    {
      "cell_type": "code",
      "source": [],
      "metadata": {
        "id": "cvlRo5CmHgxJ"
      },
      "execution_count": null,
      "outputs": []
    },
    {
      "cell_type": "code",
      "source": [],
      "metadata": {
        "id": "GOiVXwiAHXKE"
      },
      "execution_count": null,
      "outputs": []
    },
    {
      "cell_type": "code",
      "source": [],
      "metadata": {
        "id": "6HsTzMb4HEnB"
      },
      "execution_count": null,
      "outputs": []
    }
  ]
}