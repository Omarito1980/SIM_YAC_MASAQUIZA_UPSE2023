{
  "nbformat": 4,
  "nbformat_minor": 0,
  "metadata": {
    "colab": {
      "provenance": [],
      "include_colab_link": true
    },
    "kernelspec": {
      "name": "python3",
      "display_name": "Python 3"
    },
    "language_info": {
      "name": "python"
    }
  },
  "cells": [
    {
      "cell_type": "markdown",
      "metadata": {
        "id": "view-in-github",
        "colab_type": "text"
      },
      "source": [
        "<a href=\"https://colab.research.google.com/github/Omarito1980/SIM_YAC_MASAQUIZA_UPSE2023/blob/main/Ejercicio1_examen.ipynb\" target=\"_parent\"><img src=\"https://colab.research.google.com/assets/colab-badge.svg\" alt=\"Open In Colab\"/></a>"
      ]
    },
    {
      "cell_type": "code",
      "execution_count": 3,
      "metadata": {
        "id": "Aoh_5JPE3XlS"
      },
      "outputs": [],
      "source": [
        "import numpy as np\n",
        "import math"
      ]
    },
    {
      "cell_type": "code",
      "source": [
        "L=30000#LONGITUD DEL YACIMIENTO\n",
        "dx=6000 # DIfERENCIAL DE X\n",
        "Tiempo=360 #TIEMPO TOTAL dias\n",
        "DT=72 #DIFERENCIAL DE TIEMPO\n",
        "Alpha=1 #VALOR CONSTANTE\n",
        "Etha=Alpha*DT/(dx**2) # CONSTANTE ADIMENSIONAL\n",
        "Pext=7000 #presion en la mitad del yacimiento"
      ],
      "metadata": {
        "id": "bEEGNTTm5HS0"
      },
      "execution_count": 51,
      "outputs": []
    },
    {
      "cell_type": "code",
      "source": [
        "Distance=np.arange(0,L,dx) # se crea arreglo Distance que va de cero a L en intervalos de DX\n",
        "P01=np.ones_like(Distance) # se crea el arreglo P01 semejante al Distancie en cuyo arreglo se llena con numeros 1\n",
        "PYac=2000 # ingresamos la presion del yacimiento\n",
        "PFrontd=0 #Frontera derecha con valor de cero\n",
        "PFronti=0 #Frontera izquierda con valor cero\n",
        "P01=P01*PYac # reasigamos el valor de P01 que ahora va a se el arreglo P01 multiplicado por la presion del yacimiento,\n",
        "# para llenar la primera fila con los valores iniciales de presion\n",
        "P01[0]=PFronti # en la posicion inicial del del arreglo P01 se coloca el en valor de la presion de frontera izquierda\n",
        "P01[len(P01)-1]=PFrontd # ahora en la ultima posicion del arreglo P01  se coloca el valor de la frontera derecha\n",
        "N=len(Distance) # creamos un vector N de longitud igual al arreglo Distance\n",
        "\n",
        "VectorTiempo=np.arange(0,(Tiempo//DT)*DT,DT) # creamos el arreglo VectorTiempo con un arreglo que va de 0 hasta Tiempo, en intervalos de DT"
      ],
      "metadata": {
        "id": "_UeJj0ac5vMf"
      },
      "execution_count": 52,
      "outputs": []
    },
    {
      "cell_type": "code",
      "source": [],
      "metadata": {
        "id": "Ja65KiMY_-v3"
      },
      "execution_count": null,
      "outputs": []
    },
    {
      "cell_type": "code",
      "source": [
        "PM=np.zeros([len(VectorTiempo),N])# creamos el arreglo PM que se llena con numeros 0\n",
        "# en toda la longitud del vector tiempo hasta N que es la longitud de Distance\n",
        "PA=np.zeros([len(VectorTiempo),N]) #creamos el arreglo PA similar al vector PM"
      ],
      "metadata": {
        "id": "9ceUZHBl6eYE"
      },
      "execution_count": 53,
      "outputs": []
    },
    {
      "cell_type": "code",
      "source": [
        "PM.shape # forma del arreglo PM CON 5 FILAS Y 5 COLUMNAS"
      ],
      "metadata": {
        "colab": {
          "base_uri": "https://localhost:8080/"
        },
        "id": "NuhsvzrXPFyk",
        "outputId": "16360055-b5f6-4c96-dae8-fcf65e837f65"
      },
      "execution_count": 54,
      "outputs": [
        {
          "output_type": "execute_result",
          "data": {
            "text/plain": [
              "(5, 5)"
            ]
          },
          "metadata": {},
          "execution_count": 54
        }
      ]
    },
    {
      "cell_type": "code",
      "source": [
        "A=np.zeros([N-2, N-2])# creamos la matriz A que es cuadrada con filas y columnas de la longitud del arreglo Distance menos 2\n",
        "M=np.zeros([N-2, N-2])# creamos la matriz B que es cuadrada con filas y columnas de la longitud del arreglo Distance menos 2\n",
        "d=np.zeros(N-2) # creamos un arreglo d lleno de ceros de una sola fila\n",
        "d[1]=Pext\n",
        "d"
      ],
      "metadata": {
        "id": "ifKB5xDy6fGI",
        "outputId": "92c9f37e-ccfc-4be3-c21c-770febd060c8",
        "colab": {
          "base_uri": "https://localhost:8080/"
        }
      },
      "execution_count": 68,
      "outputs": [
        {
          "output_type": "execute_result",
          "data": {
            "text/plain": [
              "array([   0., 7000.,    0.])"
            ]
          },
          "metadata": {},
          "execution_count": 68
        }
      ]
    },
    {
      "cell_type": "code",
      "source": [],
      "metadata": {
        "id": "FGhjYSGVOWhy"
      },
      "execution_count": null,
      "outputs": []
    },
    {
      "cell_type": "markdown",
      "source": [
        "MATRIZ A"
      ],
      "metadata": {
        "id": "BOXxRgs_EJpJ"
      }
    },
    {
      "cell_type": "code",
      "source": [
        "# se va a llenar la matriz A"
      ],
      "metadata": {
        "id": "xwajdU9dD9YI"
      },
      "execution_count": 57,
      "outputs": []
    },
    {
      "cell_type": "code",
      "source": [
        "for i in range(N-2) : # creamos el ciclo for que inicia en i en el rango de la longitud de Distace menos 2\n",
        "  A[i,i]=1-2*Etha   # en la matriz A en las posiciones en que las filas y las columnas sean iguales\n",
        "  #se aplica el valor correspondiente a la diagonal principal\n",
        "  if i>0: # en las posiciones de las filas y las columnas que no son iguales, y si i es mayor que cero pasa a llenar de cauerdo a lo siguiente:\n",
        "    A[i,i-1]=Etha # en las posiciones de la matriz de i y de i-1 se va a colocar el valor de Lambda\n",
        "  if i<(N-3): # y si las posicion i es menor que la posiicion de la longitud restada en 3 entonces:\n",
        "    A[i,i+1]=Etha # en la matriz A de posiciones i e i+1 tambien va a colocar el valor de Lambda\n",
        "\n",
        "\n"
      ],
      "metadata": {
        "id": "wAH-_IJp7XsS"
      },
      "execution_count": 76,
      "outputs": []
    },
    {
      "cell_type": "markdown",
      "source": [
        "Matriz M"
      ],
      "metadata": {
        "id": "Qw5No_PDEXWA"
      }
    },
    {
      "cell_type": "code",
      "source": [
        "#se va a llenar la matriz M"
      ],
      "metadata": {
        "id": "3mhpskhyEeg4"
      },
      "execution_count": 77,
      "outputs": []
    },
    {
      "cell_type": "code",
      "source": [
        "b=Alpha/(2*dx**2) # se define el valor de b por medio del valor de Alpha y el dx para ingresar en el ciclo for\n",
        "for i in range(N-2) : # para el elemento i en el rango de Distance-2\n",
        "  M[i,i]=1/DT -2*b # en la matriz M en las posiciones de igual fila e igual columna, el valor en esta se calcula de acuerdo a esta linea\n",
        "  if i>0: # cuando i sea mayor que cero,\n",
        "    M[i,i-1]=b #en la matriz se va a llenar el valor de b, solo en las posiciones que tengan como filas de i y columnas i-1\n",
        "  if i<(N-3): # en el caso que i sea el valor de la la longitud de Distance menos 3 ,\n",
        "    M[i,i+1]=b# se coloca el valor de b solo en las posiciones que tengan como filas de i y columnas i+1\n"
      ],
      "metadata": {
        "id": "fqCybOWjDeMc"
      },
      "execution_count": 78,
      "outputs": []
    },
    {
      "cell_type": "code",
      "source": [
        "def filld(Pn):# Se define que se va a con un parametro Pn\n",
        "  d=np.zeros(N-2)# se crea un vector cuyo arreglo va estar lleno de ceros en una longitud de Distance -2\n",
        "  for i in range(N-2): # se inicia un ciclo for para que el valor de i en el rango anterior especificado haga lo siguiente\n",
        "    d[i]=b*Pn[i] +(1/DT-2*b)*Pn[i+1]+b*Pn[i+2] # en la posicion i el valor de d va calculando los valores de las presiones\n",
        "  return d # retorna el valor de d para que siga realizando el calculo\n"
      ],
      "metadata": {
        "id": "oBjd7IrFJpls"
      },
      "execution_count": 79,
      "outputs": []
    },
    {
      "cell_type": "code",
      "source": [
        "d"
      ],
      "metadata": {
        "id": "nREIBaA4YCXj",
        "outputId": "5a210c73-9745-41c9-c953-54e0632eed87",
        "colab": {
          "base_uri": "https://localhost:8080/"
        }
      },
      "execution_count": 80,
      "outputs": [
        {
          "output_type": "execute_result",
          "data": {
            "text/plain": [
              "array([   0., 7000.,    0.])"
            ]
          },
          "metadata": {},
          "execution_count": 80
        }
      ]
    },
    {
      "cell_type": "code",
      "source": [],
      "metadata": {
        "id": "Y7H2NCN0YEKZ"
      },
      "execution_count": null,
      "outputs": []
    },
    {
      "cell_type": "code",
      "source": [
        "Pcal=np.linalg.solve(A,P01[1:-1]) # se va a realizar la operacion de de matrices cuya matriz resultado la llamamos Pcal\n",
        "Pcal[1]=Pext\n",
        "Pcal"
      ],
      "metadata": {
        "id": "GoMU8S5w9-OD",
        "outputId": "3231044f-c5a0-4aec-9615-bd804e50847d",
        "colab": {
          "base_uri": "https://localhost:8080/"
        }
      },
      "execution_count": 86,
      "outputs": [
        {
          "output_type": "execute_result",
          "data": {
            "text/plain": [
              "array([2000.00400002, 7000.        , 2000.00400002])"
            ]
          },
          "metadata": {},
          "execution_count": 86
        }
      ]
    },
    {
      "cell_type": "code",
      "source": [
        "\n",
        "Pfin=np.concatenate(([PFronti],Pcal,[PFrontd]))#realizamos una concatenacion de los valores de presiones de fronteras y la calculada"
      ],
      "metadata": {
        "id": "J6wYi4fX-iN5"
      },
      "execution_count": 87,
      "outputs": []
    },
    {
      "cell_type": "code",
      "source": [
        "Pfin"
      ],
      "metadata": {
        "colab": {
          "base_uri": "https://localhost:8080/"
        },
        "id": "sOaE-hkCBKGu",
        "outputId": "f6d30488-9ad5-428c-f84f-6a7adc1602a8"
      },
      "execution_count": 94,
      "outputs": [
        {
          "output_type": "execute_result",
          "data": {
            "text/plain": [
              "array([   0.        , 2000.00400002, 7000.        , 2000.00400002,\n",
              "          0.        ])"
            ]
          },
          "metadata": {},
          "execution_count": 94
        }
      ]
    },
    {
      "cell_type": "code",
      "source": [
        "P01"
      ],
      "metadata": {
        "id": "Xc_ULyhRaz2_",
        "outputId": "77876c32-9be4-4d87-cd9b-881248ebc419",
        "colab": {
          "base_uri": "https://localhost:8080/"
        }
      },
      "execution_count": 95,
      "outputs": [
        {
          "output_type": "execute_result",
          "data": {
            "text/plain": [
              "array([   0, 2000, 2000, 2000,    0])"
            ]
          },
          "metadata": {},
          "execution_count": 95
        }
      ]
    },
    {
      "cell_type": "code",
      "source": [],
      "metadata": {
        "id": "XUd2r37Na1tH"
      },
      "execution_count": null,
      "outputs": []
    },
    {
      "cell_type": "code",
      "source": [
        "PM[0]=Pfin # en la posicion cero del arreglo PM de soloca el valor de P01\n",
        "PA[0]=Pfin # en la posicion cero de  del arreglo PA  se coloca el valor de P01\n",
        "Pactual=Pfin # se crea el arreglo Pactual que va a tener los valores de P01\n",
        "Pactual2=Pfin # se crea otro arreglo Pactaul2 que tambien tiene los valores de P01\n",
        "for t in range(1,Tiempo//DT): #ingresamos a un ciclo for identificando a t en el rango de filas posicion 1 y la columna de posicion  Tiempo//DT\n",
        "  d=filld(Pactual) # llamamos al arreglo d para que sea llenado en base a los valores de Pactual\n",
        "  Pcal=np.linalg.solve(M,d) # se resuelve la operacion de matrices entre M y d para obtener Pcal\n",
        "  Pcal2=np.linalg.solve(A,Pactual2[1:-1])# se resuelve la operacion de matrices entre A y el arreglo Pcatual2 con longitud de posiciones de  1 a -1\n",
        "  Pactual2=np.concatenate(([PFronti],Pcal2,[PFrontd]))# se concatena para que el arreglo Pactual2\n",
        "  Pactual=np.concatenate(([PFronti],Pcal,[PFrontd])) #se concatena para que el arreglo Pactual\n",
        "  PM[t]=Pactual # en los valores de t en el rango seleccionado se va ir llenando la matriz PM con los valores de Pcal\n",
        "  PA[t]=Pactual2 # en los valores de t en el rango seleccionado se va ir llenando la matriz PA con los valores de Pcal2\n",
        "\n",
        "\n",
        "\n"
      ],
      "metadata": {
        "id": "gH9TsCDmBM8U"
      },
      "execution_count": 96,
      "outputs": []
    },
    {
      "cell_type": "code",
      "source": [
        "\n",
        "import matplotlib.pyplot as plt\n",
        "\n",
        "imgplot = plt.imshow(PM,aspect='auto') # se garfica en myplotlib los valores de presiones obtenidos con respecto a la matriz PM\n",
        "plt.colorbar()\n"
      ],
      "metadata": {
        "colab": {
          "base_uri": "https://localhost:8080/",
          "height": 452
        },
        "id": "AcXGyQLLB_JV",
        "outputId": "15e8352f-6040-4ad1-b232-ca4ad1aadd86"
      },
      "execution_count": 97,
      "outputs": [
        {
          "output_type": "execute_result",
          "data": {
            "text/plain": [
              "<matplotlib.colorbar.Colorbar at 0x7fdda07ee7d0>"
            ]
          },
          "metadata": {},
          "execution_count": 97
        },
        {
          "output_type": "display_data",
          "data": {
            "text/plain": [
              "<Figure size 640x480 with 2 Axes>"
            ],
            "image/png": "[encoded data removed]"
          },
          "metadata": {}
        }
      ]
    },
    {
      "cell_type": "code",
      "source": [
        "import matplotlib.pyplot as plt\n",
        "\n",
        "imgplot = plt.imshow(PA,aspect='auto')# se crea la imagen de la matriz PA\n",
        "plt.colorbar()"
      ],
      "metadata": {
        "colab": {
          "base_uri": "https://localhost:8080/",
          "height": 452
        },
        "id": "1DBtVvAfExRk",
        "outputId": "3601105a-8687-4c13-8fa3-737bd2a4b3b9"
      },
      "execution_count": 91,
      "outputs": [
        {
          "output_type": "execute_result",
          "data": {
            "text/plain": [
              "<matplotlib.colorbar.Colorbar at 0x7fdda0b0e680>"
            ]
          },
          "metadata": {},
          "execution_count": 91
        },
        {
          "output_type": "display_data",
          "data": {
            "text/plain": [
              "<Figure size 640x480 with 2 Axes>"
            ],
            "image/png": "[encoded data removed]"
          },
          "metadata": {}
        }
      ]
    },
    {
      "cell_type": "code",
      "source": [],
      "metadata": {
        "id": "Nk--1wr3LPH5"
      },
      "execution_count": null,
      "outputs": []
    }
  ]
}