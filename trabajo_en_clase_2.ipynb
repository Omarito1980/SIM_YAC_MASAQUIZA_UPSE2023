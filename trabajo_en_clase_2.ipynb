{
  "nbformat": 4,
  "nbformat_minor": 0,
  "metadata": {
    "colab": {
      "provenance": [],
      "authorship_tag": "ABX9TyMCH4mUwr+EKgws3ZI0mCH9",
      "include_colab_link": true
    },
    "kernelspec": {
      "name": "python3",
      "display_name": "Python 3"
    },
    "language_info": {
      "name": "python"
    }
  },
  "cells": [
    {
      "cell_type": "markdown",
      "metadata": {
        "id": "view-in-github",
        "colab_type": "text"
      },
      "source": [
        "<a href=\"https://colab.research.google.com/github/Omarito1980/SIM_YAC_MASAQUIZA_UPSE2023/blob/main/trabajo_en_clase_2.ipynb\" target=\"_parent\"><img src=\"https://colab.research.google.com/assets/colab-badge.svg\" alt=\"Open In Colab\"/></a>"
      ]
    },
    {
      "cell_type": "code",
      "execution_count": 27,
      "metadata": {
        "id": "p6HUHTHUOHev"
      },
      "outputs": [],
      "source": [
        "#simulador ecuacion de difusividad"
      ]
    },
    {
      "cell_type": "code",
      "source": [
        "import numpy as np\n"
      ],
      "metadata": {
        "id": "NUmQ1OGVOLlJ"
      },
      "execution_count": 28,
      "outputs": []
    },
    {
      "cell_type": "code",
      "source": [
        "L=1000 #distancia total\n",
        "dx=200 #delta x\n",
        "Distance=np.arange(0,L+1,dx) #cerar un vector de la distancia\n",
        "P01=np.ones_like(Distance) # vector inicial de presiones\n",
        "print(P01)\n"
      ],
      "metadata": {
        "colab": {
          "base_uri": "https://localhost:8080/"
        },
        "id": "jyJ3YXaIOPCI",
        "outputId": "6e2da7a9-54b7-4894-aaa2-5f4c0ed5aa14"
      },
      "execution_count": 29,
      "outputs": [
        {
          "output_type": "stream",
          "name": "stdout",
          "text": [
            "[1 1 1 1 1 1]\n"
          ]
        }
      ]
    },
    {
      "cell_type": "code",
      "source": [
        "PYac=4000\n",
        "PFrontd=0\n",
        "PFronti=0\n",
        "Tiempo=100\n",
        "DT=10\n",
        "\n",
        "Pdt=np.zeros_like(Distance)"
      ],
      "metadata": {
        "id": "YrnzJ7QmPqQC"
      },
      "execution_count": 30,
      "outputs": []
    },
    {
      "cell_type": "code",
      "source": [],
      "metadata": {
        "id": "floIGlZdW3i6"
      },
      "execution_count": null,
      "outputs": []
    },
    {
      "cell_type": "code",
      "source": [
        "P01=np.ones_like(Distance)\n",
        "P01=P01*PYac\n",
        "P01[0]=PFronti\n",
        "P01[len(P01)-1]=PFrontd\n",
        "P0in=P01\n",
        "Pdt=P01\n",
        "t=DT\n"
      ],
      "metadata": {
        "id": "1MWcCRKpO6As"
      },
      "execution_count": 31,
      "outputs": []
    },
    {
      "cell_type": "code",
      "source": [
        "print(P01)"
      ],
      "metadata": {
        "colab": {
          "base_uri": "https://localhost:8080/"
        },
        "id": "pXNcQHxdSANZ",
        "outputId": "44fafd1e-3214-4192-83fe-043fd1352250"
      },
      "execution_count": 32,
      "outputs": [
        {
          "output_type": "stream",
          "name": "stdout",
          "text": [
            "[   0 4000 4000 4000 4000    0]\n"
          ]
        }
      ]
    },
    {
      "cell_type": "code",
      "source": [
        "def Presdt(P1,P2,P3,deltat,deltax):\n",
        "    return (((P1-2*P2+P3)/(deltax*deltax))*deltat)+P2"
      ],
      "metadata": {
        "id": "MRdDuBmmVq4F"
      },
      "execution_count": 33,
      "outputs": []
    },
    {
      "cell_type": "code",
      "source": [
        "while t<Tiempo:\n",
        "    for i in range(0,len(P0in)-1):\n",
        "        if i==0:\n",
        "            Pdt[i]=P0in[0]\n",
        "        elif i==len(P0in)-1:\n",
        "            Pdt[i]=P0in[len(P0in)-1]\n",
        "        else:\n",
        "            Pdt[i]=Presdt(P0in[i-1],P0in[1],P0in[i+1],DT,dx)\n",
        "    t=t+DT\n",
        "    P0in=Pdt\n",
        "    P01=np.append(P01,Pdt)\n",
        "\n",
        "print(P01)\n"
      ],
      "metadata": {
        "colab": {
          "base_uri": "https://localhost:8080/"
        },
        "id": "cd9bufQhR7eg",
        "outputId": "011572f6-23e6-4f24-d319-4ea7e2bef8a9"
      },
      "execution_count": 36,
      "outputs": [
        {
          "output_type": "stream",
          "name": "stdout",
          "text": [
            "[   0 3999 3999 3999 3998    0    0 3999 3999 3999 3998    0    0 3998\n",
            " 3998 3998 3997    0    0 3997 3997 3997 3996    0    0 3996 3996 3996\n",
            " 3995    0    0 3995 3995 3995 3994    0    0 3994 3994 3994 3993    0\n",
            "    0 3993 3993 3993 3992    0    0 3992 3992 3992 3991    0    0 3991\n",
            " 3991 3991 3990    0]\n"
          ]
        }
      ]
    },
    {
      "cell_type": "code",
      "source": [],
      "metadata": {
        "id": "vF3VHIP8WrAZ"
      },
      "execution_count": null,
      "outputs": []
    },
    {
      "cell_type": "code",
      "source": [],
      "metadata": {
        "id": "BdpyCkSoTp52"
      },
      "execution_count": null,
      "outputs": []
    }
  ]
}